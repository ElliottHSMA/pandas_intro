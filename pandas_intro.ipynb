{
 "cells": [
  {
   "cell_type": "markdown",
   "id": "c2dd2336",
   "metadata": {},
   "source": [
    "# Intro to Pandas\n",
    "\n",
    "![image info](./img/panda.gif)\n",
    "\n",
    "\n",
    "Try attempting the exercises below to help you build your confidence when working with Pandas.\n",
    "\n",
    "We may not have covered everything below, so you will have to use your preferred search engine to find the solution(s)!\n",
    "\n",
    "Here's a list of references that might help you with the exercises below:\n",
    "\n",
    "* [Pandas Series Documentation](https://pandas.pydata.org/docs/reference/api/pandas.Series.html)\n",
    "* [Pandas Max Documentation](https://pandas.pydata.org/docs/reference/api/pandas.DataFrame.max.html)\n",
    "* [Pandas Mean Documentation](https://pandas.pydata.org/docs/reference/api/pandas.DataFrame.mean.html)\n",
    "* [Pandas Median Documentation](https://pandas.pydata.org/docs/reference/api/pandas.DataFrame.median.html)"
   ]
  },
  {
   "cell_type": "markdown",
   "id": "597bd3ac",
   "metadata": {},
   "source": [
    "First things first... Import both Numpy and Pandas. Given them the aliases `np` and `pd` respectively."
   ]
  },
  {
   "cell_type": "code",
   "execution_count": null,
   "id": "3b503106",
   "metadata": {},
   "outputs": [],
   "source": [
    "# your code here"
   ]
  },
  {
   "cell_type": "markdown",
   "id": "22c45555",
   "metadata": {},
   "source": [
    "Convert the list below into a [Pandas Series](https://pandas.pydata.org/docs/reference/api/pandas.Series.html) and save it to a variable called `series1`"
   ]
  },
  {
   "cell_type": "code",
   "execution_count": null,
   "id": "348cbc11",
   "metadata": {},
   "outputs": [],
   "source": [
    "lst1 = [41.2, 87.5, 54.7, 1.9, 25.7, 99.7, 25.1, 65.1]"
   ]
  },
  {
   "cell_type": "code",
   "execution_count": null,
   "id": "c24dcabe",
   "metadata": {},
   "outputs": [],
   "source": [
    "# your code here"
   ]
  },
  {
   "cell_type": "markdown",
   "id": "37dc6ac0",
   "metadata": {},
   "source": [
    "What type of variable is `series1`? **Hint:** Use the `type()` function [Check out this page](https://www.w3schools.com/python/ref_func_type.asp)"
   ]
  },
  {
   "cell_type": "code",
   "execution_count": null,
   "id": "efda4a16",
   "metadata": {},
   "outputs": [],
   "source": [
    "# your code here"
   ]
  },
  {
   "cell_type": "markdown",
   "id": "0aa77b50",
   "metadata": {},
   "source": [
    "Return the fifth value in the Series declared above using indexing\n",
    "\n",
    "*Don't forget that indexing starts at 0*"
   ]
  },
  {
   "cell_type": "code",
   "execution_count": null,
   "id": "e0214cc9",
   "metadata": {},
   "outputs": [],
   "source": [
    "# your code here"
   ]
  },
  {
   "cell_type": "markdown",
   "id": "503bfe30",
   "metadata": {},
   "source": [
    "What is the data structure shown below?"
   ]
  },
  {
   "cell_type": "code",
   "execution_count": null,
   "id": "a6b43b76",
   "metadata": {},
   "outputs": [],
   "source": [
    "x = [[53.1, 95.0, 67.5, 35.0, 78.4],\n",
    "     [61.3, 40.8, 30.8, 37.8, 87.6],\n",
    "     [20.6, 73.2, 44.2, 14.6, 91.8],\n",
    "     [57.4, 10.1, 96.1, 4.2, 69.5],\n",
    "     [83.6, 20.5, 85.4, 22.8, 35.9],\n",
    "     [49.0, 69.0, 0.1, 31.8, 89.1],\n",
    "     [23.3, 40.7, 95.0, 83.8, 26.9],\n",
    "     [27.6, 26.4, 53.8, 88.8, 68.5],\n",
    "     [96.6, 96.4, 53.4, 72.4, 50.1],\n",
    "     [73.7, 39.0, 43.2, 81.6, 34.7]]"
   ]
  },
  {
   "cell_type": "code",
   "execution_count": null,
   "id": "34db1784",
   "metadata": {},
   "outputs": [],
   "source": [
    "# your answer here"
   ]
  },
  {
   "cell_type": "markdown",
   "id": "44dd77b3",
   "metadata": {},
   "source": [
    "Convert `x` into a Pandas DataFrame called `dfx`"
   ]
  },
  {
   "cell_type": "code",
   "execution_count": null,
   "id": "5f9d1c0e",
   "metadata": {},
   "outputs": [],
   "source": [
    "# your code here"
   ]
  },
  {
   "cell_type": "markdown",
   "id": "cb9448aa",
   "metadata": {},
   "source": [
    "Display `dfx`"
   ]
  },
  {
   "cell_type": "code",
   "execution_count": null,
   "id": "76ac5d8a",
   "metadata": {},
   "outputs": [],
   "source": [
    "# your code here"
   ]
  },
  {
   "cell_type": "markdown",
   "id": "0c937ef9",
   "metadata": {},
   "source": [
    "Set the 5 column names of `dfx` to each of the elements in the `col_names` variable below (respectively).\n",
    "\n",
    "Dan hasn't shown you how to do this, so why not search the internet for yourself? What would you search for?\n",
    "\n",
    "If you're struggling, take a look at this [Q&A](https://stackoverflow.com/questions/45468630/change-column-names-in-pandas-dataframe-from-a-list)"
   ]
  },
  {
   "cell_type": "code",
   "execution_count": null,
   "id": "b4d0e665",
   "metadata": {},
   "outputs": [],
   "source": [
    "col_names = ['Test_A', 'Test_B', 'Test_C', 'Test_D', 'Test_E']"
   ]
  },
  {
   "cell_type": "code",
   "execution_count": null,
   "id": "34b09964",
   "metadata": {},
   "outputs": [],
   "source": [
    "# your code here"
   ]
  },
  {
   "cell_type": "markdown",
   "id": "7e0a34a6",
   "metadata": {},
   "source": [
    "Display `dfx` with its shiny new column names"
   ]
  },
  {
   "cell_type": "code",
   "execution_count": null,
   "id": "690e89f0",
   "metadata": {},
   "outputs": [],
   "source": [
    "# your code here"
   ]
  },
  {
   "cell_type": "markdown",
   "id": "d1bdce3d",
   "metadata": {},
   "source": [
    "Create a subset of the data frame containing only the Test B, D and E columns. Assing this to `dfx_ss`. Display this sub set data frame."
   ]
  },
  {
   "cell_type": "code",
   "execution_count": null,
   "id": "b42cca90",
   "metadata": {},
   "outputs": [],
   "source": [
    "# your code here"
   ]
  },
  {
   "cell_type": "markdown",
   "id": "133a368d",
   "metadata": {},
   "source": [
    "Using the original data frame `dfx` calculate the *[average](https://pandas.pydata.org/docs/reference/api/pandas.DataFrame.mean.html)* score of *Test E*."
   ]
  },
  {
   "cell_type": "code",
   "execution_count": null,
   "id": "29b4851c",
   "metadata": {},
   "outputs": [],
   "source": [
    "# your code here"
   ]
  },
  {
   "cell_type": "markdown",
   "id": "20d775d3",
   "metadata": {},
   "source": [
    "Using the original data frame `dfx` calculate the *[maximum](https://pandas.pydata.org/docs/reference/api/pandas.DataFrame.max.html)* score of *Test A*."
   ]
  },
  {
   "cell_type": "code",
   "execution_count": null,
   "id": "5f624645",
   "metadata": {},
   "outputs": [],
   "source": [
    "# your code here"
   ]
  },
  {
   "cell_type": "markdown",
   "id": "67e34338",
   "metadata": {},
   "source": [
    "Using the original data frame `dfx` calculate the *[median](https://pandas.pydata.org/docs/reference/api/pandas.DataFrame.median.html)* score of *Test B*."
   ]
  },
  {
   "cell_type": "code",
   "execution_count": null,
   "id": "c72f5995",
   "metadata": {},
   "outputs": [],
   "source": [
    "# your code here"
   ]
  },
  {
   "cell_type": "markdown",
   "id": "de9b6490",
   "metadata": {},
   "source": [
    "Convert `inventory` into a Pandas DataFrame called `dfinv` then display it"
   ]
  },
  {
   "cell_type": "code",
   "execution_count": null,
   "id": "5c2dfd6b",
   "metadata": {},
   "outputs": [],
   "source": [
    "inventory = {'Description': ['LUNCH BAG APPLE DESIGN',\n",
    "                             'SET OF 60 VINTAGE LEAF CAKE CASES ',\n",
    "                             'RIBBON REEL STRIPES DESIGN ',\n",
    "                             'WORLD WAR 2 GLIDERS ASSTD DESIGNS',\n",
    "                             'PLAYING CARDS JUBILEE UNION JACK',\n",
    "                             'POPCORN HOLDER',\n",
    "                             'BOX OF VINTAGE ALPHABET BLOCKS',\n",
    "                             'PARTY BUNTING',\n",
    "                             'JAZZ HEARTS ADDRESS BOOK',\n",
    "                             'SET OF 4 SANTA PLACE SETTINGS'],\n",
    "             'Quantity': [1, 24, 1, 2880, 2, 7, 1, 4, 10, 48],\n",
    "             'UnitPrice': [1.65, 0.55, 1.65, 0.18, 1.25, 0.85, 11.95, 4.95, 0.19, 1.25],\n",
    "             'TotalValue': [1.65, 13.2, 1.65, 518.4, 2.5, 5.95, 11.95, 19.8, 1.9, 60.0]}"
   ]
  },
  {
   "cell_type": "code",
   "execution_count": null,
   "id": "0dce76e3",
   "metadata": {},
   "outputs": [],
   "source": [
    "# your code here"
   ]
  },
  {
   "cell_type": "markdown",
   "id": "6e854b69",
   "metadata": {},
   "source": [
    "What is the total value of all the inventory above?"
   ]
  },
  {
   "cell_type": "code",
   "execution_count": null,
   "id": "92571478",
   "metadata": {},
   "outputs": [],
   "source": [
    "# your code here"
   ]
  },
  {
   "cell_type": "markdown",
   "id": "328b9dfc",
   "metadata": {},
   "source": [
    "What is the value of the most expensive item in the inventory?"
   ]
  },
  {
   "cell_type": "code",
   "execution_count": null,
   "id": "945f20b4",
   "metadata": {},
   "outputs": [],
   "source": [
    "# your code here"
   ]
  },
  {
   "cell_type": "markdown",
   "id": "046f9498",
   "metadata": {},
   "source": [
    "What is the value of the least expensive item in the inventory?"
   ]
  },
  {
   "cell_type": "code",
   "execution_count": null,
   "id": "da865821",
   "metadata": {},
   "outputs": [],
   "source": [
    "# your code here"
   ]
  },
  {
   "cell_type": "markdown",
   "id": "3f11d63e",
   "metadata": {},
   "source": [
    "The end."
   ]
  }
 ],
 "metadata": {
  "kernelspec": {
   "display_name": "Python 3 (ipykernel)",
   "language": "python",
   "name": "python3"
  },
  "language_info": {
   "codemirror_mode": {
    "name": "ipython",
    "version": 3
   },
   "file_extension": ".py",
   "mimetype": "text/x-python",
   "name": "python",
   "nbconvert_exporter": "python",
   "pygments_lexer": "ipython3",
   "version": "3.9.12"
  }
 },
 "nbformat": 4,
 "nbformat_minor": 5
}
